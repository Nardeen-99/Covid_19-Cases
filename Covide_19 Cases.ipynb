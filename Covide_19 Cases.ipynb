{
 "cells": [
  {
   "cell_type": "markdown",
   "id": "151a9573",
   "metadata": {},
   "source": [
    "# Introduction\n",
    "### Dataset Description \n",
    "\n",
    "In this dataset, we'll be analyzing a little over 1k death count focusing on The highest number of death count and the gender that most affected by the diseases\n"
   ]
  },
  {
   "cell_type": "code",
   "execution_count": 35,
   "id": "515b42de",
   "metadata": {},
   "outputs": [],
   "source": [
    "import pandas as pd\n",
    "import numpy as np\n",
    "import matplotlib.pyplot as plt\n",
    "%matplotlib inline\n",
    "import seaborn as sns"
   ]
  },
  {
   "cell_type": "code",
   "execution_count": 36,
   "id": "2943c6f9",
   "metadata": {},
   "outputs": [
    {
     "data": {
      "text/html": [
       "<div>\n",
       "<style scoped>\n",
       "    .dataframe tbody tr th:only-of-type {\n",
       "        vertical-align: middle;\n",
       "    }\n",
       "\n",
       "    .dataframe tbody tr th {\n",
       "        vertical-align: top;\n",
       "    }\n",
       "\n",
       "    .dataframe thead th {\n",
       "        text-align: right;\n",
       "    }\n",
       "</style>\n",
       "<table border=\"1\" class=\"dataframe\">\n",
       "  <thead>\n",
       "    <tr style=\"text-align: right;\">\n",
       "      <th></th>\n",
       "      <th>Data as of</th>\n",
       "      <th>Start week</th>\n",
       "      <th>End Week</th>\n",
       "      <th>State</th>\n",
       "      <th>Sex</th>\n",
       "      <th>Age group</th>\n",
       "      <th>COVID-19 Deaths</th>\n",
       "      <th>Total Deaths</th>\n",
       "      <th>Pneumonia Deaths</th>\n",
       "      <th>Pneumonia and COVID-19 Deaths</th>\n",
       "      <th>Influenza Deaths</th>\n",
       "      <th>Pneumonia, Influenza, or COVID-19 Deaths</th>\n",
       "      <th>Footnote</th>\n",
       "    </tr>\n",
       "  </thead>\n",
       "  <tbody>\n",
       "    <tr>\n",
       "      <th>0</th>\n",
       "      <td>06/24/2020</td>\n",
       "      <td>02/01/2020</td>\n",
       "      <td>06/20/2020</td>\n",
       "      <td>United States</td>\n",
       "      <td>All</td>\n",
       "      <td>Under 1 year</td>\n",
       "      <td>9.0</td>\n",
       "      <td>6504.0</td>\n",
       "      <td>59.0</td>\n",
       "      <td>2.0</td>\n",
       "      <td>14.0</td>\n",
       "      <td>80.0</td>\n",
       "      <td>NaN</td>\n",
       "    </tr>\n",
       "    <tr>\n",
       "      <th>1</th>\n",
       "      <td>06/24/2020</td>\n",
       "      <td>02/01/2020</td>\n",
       "      <td>06/20/2020</td>\n",
       "      <td>United States</td>\n",
       "      <td>All</td>\n",
       "      <td>1-4 years</td>\n",
       "      <td>6.0</td>\n",
       "      <td>1259.0</td>\n",
       "      <td>46.0</td>\n",
       "      <td>2.0</td>\n",
       "      <td>40.0</td>\n",
       "      <td>90.0</td>\n",
       "      <td>NaN</td>\n",
       "    </tr>\n",
       "    <tr>\n",
       "      <th>2</th>\n",
       "      <td>06/24/2020</td>\n",
       "      <td>02/01/2020</td>\n",
       "      <td>06/20/2020</td>\n",
       "      <td>United States</td>\n",
       "      <td>All</td>\n",
       "      <td>5-14 years</td>\n",
       "      <td>13.0</td>\n",
       "      <td>1859.0</td>\n",
       "      <td>61.0</td>\n",
       "      <td>3.0</td>\n",
       "      <td>46.0</td>\n",
       "      <td>117.0</td>\n",
       "      <td>NaN</td>\n",
       "    </tr>\n",
       "    <tr>\n",
       "      <th>3</th>\n",
       "      <td>06/24/2020</td>\n",
       "      <td>02/01/2020</td>\n",
       "      <td>06/20/2020</td>\n",
       "      <td>United States</td>\n",
       "      <td>All</td>\n",
       "      <td>15-24 years</td>\n",
       "      <td>132.0</td>\n",
       "      <td>11608.0</td>\n",
       "      <td>235.0</td>\n",
       "      <td>45.0</td>\n",
       "      <td>51.0</td>\n",
       "      <td>369.0</td>\n",
       "      <td>NaN</td>\n",
       "    </tr>\n",
       "    <tr>\n",
       "      <th>4</th>\n",
       "      <td>06/24/2020</td>\n",
       "      <td>02/01/2020</td>\n",
       "      <td>06/20/2020</td>\n",
       "      <td>United States</td>\n",
       "      <td>All</td>\n",
       "      <td>25-34 years</td>\n",
       "      <td>732.0</td>\n",
       "      <td>24675.0</td>\n",
       "      <td>885.0</td>\n",
       "      <td>327.0</td>\n",
       "      <td>146.0</td>\n",
       "      <td>1423.0</td>\n",
       "      <td>NaN</td>\n",
       "    </tr>\n",
       "    <tr>\n",
       "      <th>...</th>\n",
       "      <td>...</td>\n",
       "      <td>...</td>\n",
       "      <td>...</td>\n",
       "      <td>...</td>\n",
       "      <td>...</td>\n",
       "      <td>...</td>\n",
       "      <td>...</td>\n",
       "      <td>...</td>\n",
       "      <td>...</td>\n",
       "      <td>...</td>\n",
       "      <td>...</td>\n",
       "      <td>...</td>\n",
       "      <td>...</td>\n",
       "    </tr>\n",
       "    <tr>\n",
       "      <th>1411</th>\n",
       "      <td>06/24/2020</td>\n",
       "      <td>02/01/2020</td>\n",
       "      <td>06/20/2020</td>\n",
       "      <td>Puerto Rico</td>\n",
       "      <td>Female</td>\n",
       "      <td>75-84 years</td>\n",
       "      <td>0.0</td>\n",
       "      <td>0.0</td>\n",
       "      <td>0.0</td>\n",
       "      <td>0.0</td>\n",
       "      <td>0.0</td>\n",
       "      <td>0.0</td>\n",
       "      <td>NaN</td>\n",
       "    </tr>\n",
       "    <tr>\n",
       "      <th>1412</th>\n",
       "      <td>06/24/2020</td>\n",
       "      <td>02/01/2020</td>\n",
       "      <td>06/20/2020</td>\n",
       "      <td>Puerto Rico</td>\n",
       "      <td>Female</td>\n",
       "      <td>85 years and over</td>\n",
       "      <td>0.0</td>\n",
       "      <td>0.0</td>\n",
       "      <td>0.0</td>\n",
       "      <td>0.0</td>\n",
       "      <td>0.0</td>\n",
       "      <td>0.0</td>\n",
       "      <td>NaN</td>\n",
       "    </tr>\n",
       "    <tr>\n",
       "      <th>1413</th>\n",
       "      <td>06/24/2020</td>\n",
       "      <td>02/01/2020</td>\n",
       "      <td>06/20/2020</td>\n",
       "      <td>Puerto Rico</td>\n",
       "      <td>Female</td>\n",
       "      <td>All ages</td>\n",
       "      <td>NaN</td>\n",
       "      <td>358.0</td>\n",
       "      <td>39.0</td>\n",
       "      <td>NaN</td>\n",
       "      <td>NaN</td>\n",
       "      <td>43.0</td>\n",
       "      <td>One or more data cells have counts between 1–9...</td>\n",
       "    </tr>\n",
       "    <tr>\n",
       "      <th>1414</th>\n",
       "      <td>06/24/2020</td>\n",
       "      <td>02/01/2020</td>\n",
       "      <td>06/20/2020</td>\n",
       "      <td>Puerto Rico</td>\n",
       "      <td>Unknown</td>\n",
       "      <td>All ages</td>\n",
       "      <td>0.0</td>\n",
       "      <td>0.0</td>\n",
       "      <td>0.0</td>\n",
       "      <td>0.0</td>\n",
       "      <td>0.0</td>\n",
       "      <td>0.0</td>\n",
       "      <td>NaN</td>\n",
       "    </tr>\n",
       "    <tr>\n",
       "      <th>1415</th>\n",
       "      <td>06/24/2020</td>\n",
       "      <td>02/01/2020</td>\n",
       "      <td>06/20/2020</td>\n",
       "      <td>Puerto Rico Total</td>\n",
       "      <td>All</td>\n",
       "      <td>All Ages</td>\n",
       "      <td>21.0</td>\n",
       "      <td>1117.0</td>\n",
       "      <td>98.0</td>\n",
       "      <td>NaN</td>\n",
       "      <td>NaN</td>\n",
       "      <td>115.0</td>\n",
       "      <td>One or more data cells have counts between 1–9...</td>\n",
       "    </tr>\n",
       "  </tbody>\n",
       "</table>\n",
       "<p>1416 rows × 13 columns</p>\n",
       "</div>"
      ],
      "text/plain": [
       "      Data as of  Start week    End Week              State      Sex  \\\n",
       "0     06/24/2020  02/01/2020  06/20/2020      United States      All   \n",
       "1     06/24/2020  02/01/2020  06/20/2020      United States      All   \n",
       "2     06/24/2020  02/01/2020  06/20/2020      United States      All   \n",
       "3     06/24/2020  02/01/2020  06/20/2020      United States      All   \n",
       "4     06/24/2020  02/01/2020  06/20/2020      United States      All   \n",
       "...          ...         ...         ...                ...      ...   \n",
       "1411  06/24/2020  02/01/2020  06/20/2020        Puerto Rico   Female   \n",
       "1412  06/24/2020  02/01/2020  06/20/2020        Puerto Rico   Female   \n",
       "1413  06/24/2020  02/01/2020  06/20/2020        Puerto Rico   Female   \n",
       "1414  06/24/2020  02/01/2020  06/20/2020        Puerto Rico  Unknown   \n",
       "1415  06/24/2020  02/01/2020  06/20/2020  Puerto Rico Total      All   \n",
       "\n",
       "              Age group  COVID-19 Deaths  Total Deaths  Pneumonia Deaths  \\\n",
       "0          Under 1 year              9.0        6504.0              59.0   \n",
       "1             1-4 years              6.0        1259.0              46.0   \n",
       "2            5-14 years             13.0        1859.0              61.0   \n",
       "3           15-24 years            132.0       11608.0             235.0   \n",
       "4           25-34 years            732.0       24675.0             885.0   \n",
       "...                 ...              ...           ...               ...   \n",
       "1411        75-84 years              0.0           0.0               0.0   \n",
       "1412  85 years and over              0.0           0.0               0.0   \n",
       "1413           All ages              NaN         358.0              39.0   \n",
       "1414           All ages              0.0           0.0               0.0   \n",
       "1415           All Ages             21.0        1117.0              98.0   \n",
       "\n",
       "      Pneumonia and COVID-19 Deaths  Influenza Deaths  \\\n",
       "0                               2.0              14.0   \n",
       "1                               2.0              40.0   \n",
       "2                               3.0              46.0   \n",
       "3                              45.0              51.0   \n",
       "4                             327.0             146.0   \n",
       "...                             ...               ...   \n",
       "1411                            0.0               0.0   \n",
       "1412                            0.0               0.0   \n",
       "1413                            NaN               NaN   \n",
       "1414                            0.0               0.0   \n",
       "1415                            NaN               NaN   \n",
       "\n",
       "      Pneumonia, Influenza, or COVID-19 Deaths  \\\n",
       "0                                         80.0   \n",
       "1                                         90.0   \n",
       "2                                        117.0   \n",
       "3                                        369.0   \n",
       "4                                       1423.0   \n",
       "...                                        ...   \n",
       "1411                                       0.0   \n",
       "1412                                       0.0   \n",
       "1413                                      43.0   \n",
       "1414                                       0.0   \n",
       "1415                                     115.0   \n",
       "\n",
       "                                               Footnote  \n",
       "0                                                   NaN  \n",
       "1                                                   NaN  \n",
       "2                                                   NaN  \n",
       "3                                                   NaN  \n",
       "4                                                   NaN  \n",
       "...                                                 ...  \n",
       "1411                                                NaN  \n",
       "1412                                                NaN  \n",
       "1413  One or more data cells have counts between 1–9...  \n",
       "1414                                                NaN  \n",
       "1415  One or more data cells have counts between 1–9...  \n",
       "\n",
       "[1416 rows x 13 columns]"
      ]
     },
     "execution_count": 36,
     "metadata": {},
     "output_type": "execute_result"
    }
   ],
   "source": [
    "df = pd.read_csv(\"csv-1.csv\")\n",
    "df"
   ]
  },
  {
   "cell_type": "markdown",
   "id": "7073b9fe",
   "metadata": {},
   "source": [
    "# Data wrangling\n",
    "### General Properties\n"
   ]
  },
  {
   "cell_type": "code",
   "execution_count": 37,
   "id": "a937102b",
   "metadata": {},
   "outputs": [
    {
     "data": {
      "text/plain": [
       "(1416, 13)"
      ]
     },
     "execution_count": 37,
     "metadata": {},
     "output_type": "execute_result"
    }
   ],
   "source": [
    "df.shape"
   ]
  },
  {
   "cell_type": "code",
   "execution_count": 38,
   "id": "cbf28123",
   "metadata": {},
   "outputs": [
    {
     "data": {
      "text/plain": [
       "108"
      ]
     },
     "execution_count": 38,
     "metadata": {},
     "output_type": "execute_result"
    }
   ],
   "source": [
    "df['State'].nunique()"
   ]
  },
  {
   "cell_type": "code",
   "execution_count": 39,
   "id": "ea21e6c6",
   "metadata": {},
   "outputs": [
    {
     "data": {
      "text/plain": [
       "4"
      ]
     },
     "execution_count": 39,
     "metadata": {},
     "output_type": "execute_result"
    }
   ],
   "source": [
    "df['Sex'].nunique()"
   ]
  },
  {
   "cell_type": "code",
   "execution_count": 40,
   "id": "12bfce5e",
   "metadata": {},
   "outputs": [
    {
     "data": {
      "text/plain": [
       "13"
      ]
     },
     "execution_count": 40,
     "metadata": {},
     "output_type": "execute_result"
    }
   ],
   "source": [
    "df['Age group'].nunique()"
   ]
  },
  {
   "cell_type": "code",
   "execution_count": 41,
   "id": "1089dbd6",
   "metadata": {},
   "outputs": [
    {
     "name": "stdout",
     "output_type": "stream",
     "text": [
      "<class 'pandas.core.frame.DataFrame'>\n",
      "RangeIndex: 1416 entries, 0 to 1415\n",
      "Data columns (total 13 columns):\n",
      " #   Column                                    Non-Null Count  Dtype  \n",
      "---  ------                                    --------------  -----  \n",
      " 0   Data as of                                1416 non-null   object \n",
      " 1   Start week                                1416 non-null   object \n",
      " 2   End Week                                  1416 non-null   object \n",
      " 3   State                                     1416 non-null   object \n",
      " 4   Sex                                       1416 non-null   object \n",
      " 5   Age group                                 1416 non-null   object \n",
      " 6   COVID-19 Deaths                           1133 non-null   float64\n",
      " 7   Total Deaths                              1274 non-null   float64\n",
      " 8   Pneumonia Deaths                          1093 non-null   float64\n",
      " 9   Pneumonia and COVID-19 Deaths             1128 non-null   float64\n",
      " 10  Influenza Deaths                          881 non-null    float64\n",
      " 11  Pneumonia, Influenza, or COVID-19 Deaths  1066 non-null   float64\n",
      " 12  Footnote                                  875 non-null    object \n",
      "dtypes: float64(6), object(7)\n",
      "memory usage: 143.9+ KB\n"
     ]
    }
   ],
   "source": [
    "df.info()"
   ]
  },
  {
   "cell_type": "markdown",
   "id": "2922e26c",
   "metadata": {},
   "source": [
    "# Data Cleaning"
   ]
  },
  {
   "cell_type": "code",
   "execution_count": 42,
   "id": "27b05332",
   "metadata": {},
   "outputs": [],
   "source": [
    "df.rename(columns=lambda x: x.strip().replace(\" \", \"_\"), inplace=True)"
   ]
  },
  {
   "cell_type": "markdown",
   "id": "f04e3023",
   "metadata": {},
   "source": [
    "We added (_) to the columns to make it easer to deal with the data"
   ]
  },
  {
   "cell_type": "code",
   "execution_count": 43,
   "id": "80bec739",
   "metadata": {},
   "outputs": [],
   "source": [
    "# we changed some details in columns names\n",
    "df.rename(columns={'COVID-19_Deaths':'COVID_19_Deaths'}, inplace=True)\n",
    "df.rename(columns={'Pneumonia_and_COVID-19_Deaths':'Pneumonia_and_COVID_19_Deaths'}, inplace=True)\n",
    "df.rename(columns={'Pneumonia,_Influenza,_or_COVID-19_Deaths':'Pneumonia,_Influenza,_or_COVID_19_Deaths'}, inplace=True)"
   ]
  },
  {
   "cell_type": "code",
   "execution_count": 44,
   "id": "d324ee5b",
   "metadata": {},
   "outputs": [
    {
     "data": {
      "text/html": [
       "<div>\n",
       "<style scoped>\n",
       "    .dataframe tbody tr th:only-of-type {\n",
       "        vertical-align: middle;\n",
       "    }\n",
       "\n",
       "    .dataframe tbody tr th {\n",
       "        vertical-align: top;\n",
       "    }\n",
       "\n",
       "    .dataframe thead th {\n",
       "        text-align: right;\n",
       "    }\n",
       "</style>\n",
       "<table border=\"1\" class=\"dataframe\">\n",
       "  <thead>\n",
       "    <tr style=\"text-align: right;\">\n",
       "      <th></th>\n",
       "      <th>Data_as_of</th>\n",
       "      <th>Start_week</th>\n",
       "      <th>End_Week</th>\n",
       "      <th>State</th>\n",
       "      <th>Sex</th>\n",
       "      <th>Age_group</th>\n",
       "      <th>COVID_19_Deaths</th>\n",
       "      <th>Total_Deaths</th>\n",
       "      <th>Pneumonia_Deaths</th>\n",
       "      <th>Pneumonia_and_COVID_19_Deaths</th>\n",
       "      <th>Influenza_Deaths</th>\n",
       "      <th>Pneumonia,_Influenza,_or_COVID_19_Deaths</th>\n",
       "      <th>Footnote</th>\n",
       "    </tr>\n",
       "  </thead>\n",
       "  <tbody>\n",
       "    <tr>\n",
       "      <th>0</th>\n",
       "      <td>06/24/2020</td>\n",
       "      <td>02/01/2020</td>\n",
       "      <td>06/20/2020</td>\n",
       "      <td>United States</td>\n",
       "      <td>All</td>\n",
       "      <td>Under 1 year</td>\n",
       "      <td>9.0</td>\n",
       "      <td>6504.0</td>\n",
       "      <td>59.0</td>\n",
       "      <td>2.0</td>\n",
       "      <td>14.0</td>\n",
       "      <td>80.0</td>\n",
       "      <td>NaN</td>\n",
       "    </tr>\n",
       "  </tbody>\n",
       "</table>\n",
       "</div>"
      ],
      "text/plain": [
       "   Data_as_of  Start_week    End_Week          State  Sex     Age_group  \\\n",
       "0  06/24/2020  02/01/2020  06/20/2020  United States  All  Under 1 year   \n",
       "\n",
       "   COVID_19_Deaths  Total_Deaths  Pneumonia_Deaths  \\\n",
       "0              9.0        6504.0              59.0   \n",
       "\n",
       "   Pneumonia_and_COVID_19_Deaths  Influenza_Deaths  \\\n",
       "0                            2.0              14.0   \n",
       "\n",
       "   Pneumonia,_Influenza,_or_COVID_19_Deaths Footnote  \n",
       "0                                      80.0      NaN  "
      ]
     },
     "execution_count": 44,
     "metadata": {},
     "output_type": "execute_result"
    }
   ],
   "source": [
    "df.head(1)"
   ]
  },
  {
   "cell_type": "code",
   "execution_count": 45,
   "id": "4e1eb14b",
   "metadata": {},
   "outputs": [],
   "source": [
    "df.drop(['Data_as_of', 'Start_week', 'End_Week', 'Footnote', 'Pneumonia,_Influenza,_or_COVID_19_Deaths', 'Pneumonia_and_COVID_19_Deaths'], axis=1, inplace=True)"
   ]
  },
  {
   "cell_type": "markdown",
   "id": "ffe6361f",
   "metadata": {},
   "source": [
    "We dropped the columns that we won't use in analyzing"
   ]
  },
  {
   "cell_type": "code",
   "execution_count": 46,
   "id": "b2bf629a",
   "metadata": {},
   "outputs": [],
   "source": [
    "df.fillna(0, inplace=True)"
   ]
  },
  {
   "cell_type": "code",
   "execution_count": 47,
   "id": "f6a355f1",
   "metadata": {},
   "outputs": [],
   "source": [
    "df.COVID_19_Deaths = df.COVID_19_Deaths.astype(int)\n",
    "df.Total_Deaths = df.Total_Deaths.astype(int)\n",
    "df.Pneumonia_Deaths = df.Pneumonia_Deaths.astype(int)\n",
    "df.Influenza_Deaths = df.Influenza_Deaths.astype(int)"
   ]
  },
  {
   "cell_type": "markdown",
   "id": "271a52d0",
   "metadata": {},
   "source": [
    "Change some columns data types to make it more logical"
   ]
  },
  {
   "cell_type": "code",
   "execution_count": 48,
   "id": "f052e227",
   "metadata": {},
   "outputs": [
    {
     "name": "stdout",
     "output_type": "stream",
     "text": [
      "<class 'pandas.core.frame.DataFrame'>\n",
      "RangeIndex: 1416 entries, 0 to 1415\n",
      "Data columns (total 7 columns):\n",
      " #   Column            Non-Null Count  Dtype \n",
      "---  ------            --------------  ----- \n",
      " 0   State             1416 non-null   object\n",
      " 1   Sex               1416 non-null   object\n",
      " 2   Age_group         1416 non-null   object\n",
      " 3   COVID_19_Deaths   1416 non-null   int32 \n",
      " 4   Total_Deaths      1416 non-null   int32 \n",
      " 5   Pneumonia_Deaths  1416 non-null   int32 \n",
      " 6   Influenza_Deaths  1416 non-null   int32 \n",
      "dtypes: int32(4), object(3)\n",
      "memory usage: 55.4+ KB\n"
     ]
    }
   ],
   "source": [
    "df.info()"
   ]
  },
  {
   "cell_type": "code",
   "execution_count": 49,
   "id": "e1a0507e",
   "metadata": {},
   "outputs": [
    {
     "data": {
      "text/html": [
       "<div>\n",
       "<style scoped>\n",
       "    .dataframe tbody tr th:only-of-type {\n",
       "        vertical-align: middle;\n",
       "    }\n",
       "\n",
       "    .dataframe tbody tr th {\n",
       "        vertical-align: top;\n",
       "    }\n",
       "\n",
       "    .dataframe thead th {\n",
       "        text-align: right;\n",
       "    }\n",
       "</style>\n",
       "<table border=\"1\" class=\"dataframe\">\n",
       "  <thead>\n",
       "    <tr style=\"text-align: right;\">\n",
       "      <th></th>\n",
       "      <th>State</th>\n",
       "      <th>Sex</th>\n",
       "      <th>Age_group</th>\n",
       "      <th>COVID_19_Deaths</th>\n",
       "      <th>Total_Deaths</th>\n",
       "      <th>Pneumonia_Deaths</th>\n",
       "      <th>Influenza_Deaths</th>\n",
       "    </tr>\n",
       "  </thead>\n",
       "  <tbody>\n",
       "    <tr>\n",
       "      <th>0</th>\n",
       "      <td>United States</td>\n",
       "      <td>All</td>\n",
       "      <td>Under 1 year</td>\n",
       "      <td>9</td>\n",
       "      <td>6504</td>\n",
       "      <td>59</td>\n",
       "      <td>14</td>\n",
       "    </tr>\n",
       "  </tbody>\n",
       "</table>\n",
       "</div>"
      ],
      "text/plain": [
       "           State  Sex     Age_group  COVID_19_Deaths  Total_Deaths  \\\n",
       "0  United States  All  Under 1 year                9          6504   \n",
       "\n",
       "   Pneumonia_Deaths  Influenza_Deaths  \n",
       "0                59                14  "
      ]
     },
     "execution_count": 49,
     "metadata": {},
     "output_type": "execute_result"
    }
   ],
   "source": [
    "df.head(1)"
   ]
  },
  {
   "cell_type": "markdown",
   "id": "f1d3b103",
   "metadata": {},
   "source": [
    "We dropped data the we won't use "
   ]
  },
  {
   "cell_type": "markdown",
   "id": "7c9c2572",
   "metadata": {},
   "source": [
    "## Exploratory Data Analysis and Data Visualization\n"
   ]
  },
  {
   "cell_type": "markdown",
   "id": "dd0cebf9",
   "metadata": {},
   "source": [
    "# Which states that have the highest number of total deaths and the states that have the lowest total deaths?"
   ]
  },
  {
   "cell_type": "code",
   "execution_count": 50,
   "id": "97ad7935",
   "metadata": {},
   "outputs": [
    {
     "data": {
      "text/plain": [
       "1215516"
      ]
     },
     "execution_count": 50,
     "metadata": {},
     "output_type": "execute_result"
    }
   ],
   "source": [
    "df[\"Total_Deaths\"].max()"
   ]
  },
  {
   "cell_type": "code",
   "execution_count": 51,
   "id": "c2a89738",
   "metadata": {},
   "outputs": [
    {
     "data": {
      "text/plain": [
       "State\n",
       "United States          1215516\n",
       "United States Total    1215516\n",
       "Alabama                  10911\n",
       "Alabama Total            21123\n",
       "Alaska                     878\n",
       "                        ...   \n",
       "Wisconsin Total          22040\n",
       "Wyoming                    975\n",
       "Wyoming Total             1818\n",
       "Puerto Rico                759\n",
       "Puerto Rico Total         1117\n",
       "Name: Total_Deaths, Length: 108, dtype: int32"
      ]
     },
     "execution_count": 51,
     "metadata": {},
     "output_type": "execute_result"
    }
   ],
   "source": [
    "df.groupby(['State'], sort=False)['Total_Deaths'].max()"
   ]
  },
  {
   "cell_type": "code",
   "execution_count": 52,
   "id": "61b12cd9",
   "metadata": {},
   "outputs": [
    {
     "data": {
      "text/html": [
       "<div>\n",
       "<style scoped>\n",
       "    .dataframe tbody tr th:only-of-type {\n",
       "        vertical-align: middle;\n",
       "    }\n",
       "\n",
       "    .dataframe tbody tr th {\n",
       "        vertical-align: top;\n",
       "    }\n",
       "\n",
       "    .dataframe thead th {\n",
       "        text-align: right;\n",
       "    }\n",
       "</style>\n",
       "<table border=\"1\" class=\"dataframe\">\n",
       "  <thead>\n",
       "    <tr style=\"text-align: right;\">\n",
       "      <th></th>\n",
       "      <th>State</th>\n",
       "      <th>Sex</th>\n",
       "      <th>Age_group</th>\n",
       "      <th>COVID_19_Deaths</th>\n",
       "      <th>Total_Deaths</th>\n",
       "      <th>Pneumonia_Deaths</th>\n",
       "      <th>Influenza_Deaths</th>\n",
       "    </tr>\n",
       "  </thead>\n",
       "  <tbody>\n",
       "    <tr>\n",
       "      <th>11</th>\n",
       "      <td>United States</td>\n",
       "      <td>All</td>\n",
       "      <td>All Ages</td>\n",
       "      <td>107997</td>\n",
       "      <td>1215516</td>\n",
       "      <td>117814</td>\n",
       "      <td>6444</td>\n",
       "    </tr>\n",
       "    <tr>\n",
       "      <th>37</th>\n",
       "      <td>United States Total</td>\n",
       "      <td>All</td>\n",
       "      <td>All Ages</td>\n",
       "      <td>107997</td>\n",
       "      <td>1215516</td>\n",
       "      <td>117814</td>\n",
       "      <td>6444</td>\n",
       "    </tr>\n",
       "  </tbody>\n",
       "</table>\n",
       "</div>"
      ],
      "text/plain": [
       "                  State  Sex Age_group  COVID_19_Deaths  Total_Deaths  \\\n",
       "11        United States  All  All Ages           107997       1215516   \n",
       "37  United States Total  All  All Ages           107997       1215516   \n",
       "\n",
       "    Pneumonia_Deaths  Influenza_Deaths  \n",
       "11            117814              6444  \n",
       "37            117814              6444  "
      ]
     },
     "execution_count": 52,
     "metadata": {},
     "output_type": "execute_result"
    }
   ],
   "source": [
    "df.query('Total_Deaths == 1215516')\n"
   ]
  },
  {
   "cell_type": "markdown",
   "id": "d94d4c17",
   "metadata": {},
   "source": [
    "The United States has 1215516  number of deaths"
   ]
  },
  {
   "cell_type": "code",
   "execution_count": 53,
   "id": "2174bbe6",
   "metadata": {},
   "outputs": [
    {
     "data": {
      "text/plain": [
       "0"
      ]
     },
     "execution_count": 53,
     "metadata": {},
     "output_type": "execute_result"
    }
   ],
   "source": [
    "df[\"Total_Deaths\"].min()"
   ]
  },
  {
   "cell_type": "code",
   "execution_count": 54,
   "id": "47a42131",
   "metadata": {},
   "outputs": [
    {
     "data": {
      "text/plain": [
       "State               53\n",
       "Sex                  3\n",
       "Age_group           10\n",
       "COVID_19_Deaths      1\n",
       "Total_Deaths         1\n",
       "Pneumonia_Deaths     1\n",
       "Influenza_Deaths     1\n",
       "dtype: int64"
      ]
     },
     "execution_count": 54,
     "metadata": {},
     "output_type": "execute_result"
    }
   ],
   "source": [
    "min_total_death = df.query('Total_Deaths == 0')\n",
    "min_total_death.nunique()"
   ]
  },
  {
   "cell_type": "markdown",
   "id": "850c3309",
   "metadata": {},
   "source": [
    "A lot of states have the lowest number of death counts "
   ]
  },
  {
   "cell_type": "markdown",
   "id": "80550657",
   "metadata": {},
   "source": [
    "# Which age has the highest total deaths, covid19 deaths, Influenza_Deaths and Pneumonia_Deaths?"
   ]
  },
  {
   "cell_type": "code",
   "execution_count": 55,
   "id": "0b5e6f49",
   "metadata": {},
   "outputs": [
    {
     "data": {
      "text/plain": [
       "13"
      ]
     },
     "execution_count": 55,
     "metadata": {},
     "output_type": "execute_result"
    }
   ],
   "source": [
    "df.Age_group.nunique()"
   ]
  },
  {
   "cell_type": "code",
   "execution_count": 56,
   "id": "cb3f7ed5",
   "metadata": {},
   "outputs": [
    {
     "data": {
      "text/plain": [
       "All ages             162\n",
       "15-24 years          109\n",
       "Under 1 year         109\n",
       "65-74 years          109\n",
       "1-4 years            109\n",
       "45-54 years          109\n",
       "35-44 years          109\n",
       "25-34 years          109\n",
       "75-84 years          109\n",
       "85 years and over    109\n",
       "55-64 years          109\n",
       "5-14 years           109\n",
       "All Ages              55\n",
       "Name: Age_group, dtype: int64"
      ]
     },
     "execution_count": 56,
     "metadata": {},
     "output_type": "execute_result"
    }
   ],
   "source": [
    "df.Age_group.value_counts()"
   ]
  },
  {
   "cell_type": "markdown",
   "id": "663ed802",
   "metadata": {},
   "source": [
    "Here we can realise that there's two to variables of (all ages) , it's better to drop that rows to analyze the reast of age group"
   ]
  },
  {
   "cell_type": "code",
   "execution_count": 57,
   "id": "0b748bd4",
   "metadata": {},
   "outputs": [
    {
     "data": {
      "text/html": [
       "<div>\n",
       "<style scoped>\n",
       "    .dataframe tbody tr th:only-of-type {\n",
       "        vertical-align: middle;\n",
       "    }\n",
       "\n",
       "    .dataframe tbody tr th {\n",
       "        vertical-align: top;\n",
       "    }\n",
       "\n",
       "    .dataframe thead th {\n",
       "        text-align: right;\n",
       "    }\n",
       "</style>\n",
       "<table border=\"1\" class=\"dataframe\">\n",
       "  <thead>\n",
       "    <tr style=\"text-align: right;\">\n",
       "      <th></th>\n",
       "      <th>State</th>\n",
       "      <th>Sex</th>\n",
       "      <th>Age_group</th>\n",
       "      <th>COVID_19_Deaths</th>\n",
       "      <th>Total_Deaths</th>\n",
       "      <th>Pneumonia_Deaths</th>\n",
       "      <th>Influenza_Deaths</th>\n",
       "    </tr>\n",
       "  </thead>\n",
       "  <tbody>\n",
       "    <tr>\n",
       "      <th>0</th>\n",
       "      <td>United States</td>\n",
       "      <td>All</td>\n",
       "      <td>Under 1 year</td>\n",
       "      <td>9</td>\n",
       "      <td>6504</td>\n",
       "      <td>59</td>\n",
       "      <td>14</td>\n",
       "    </tr>\n",
       "    <tr>\n",
       "      <th>1</th>\n",
       "      <td>United States</td>\n",
       "      <td>All</td>\n",
       "      <td>1-4 years</td>\n",
       "      <td>6</td>\n",
       "      <td>1259</td>\n",
       "      <td>46</td>\n",
       "      <td>40</td>\n",
       "    </tr>\n",
       "    <tr>\n",
       "      <th>2</th>\n",
       "      <td>United States</td>\n",
       "      <td>All</td>\n",
       "      <td>5-14 years</td>\n",
       "      <td>13</td>\n",
       "      <td>1859</td>\n",
       "      <td>61</td>\n",
       "      <td>46</td>\n",
       "    </tr>\n",
       "    <tr>\n",
       "      <th>3</th>\n",
       "      <td>United States</td>\n",
       "      <td>All</td>\n",
       "      <td>15-24 years</td>\n",
       "      <td>132</td>\n",
       "      <td>11608</td>\n",
       "      <td>235</td>\n",
       "      <td>51</td>\n",
       "    </tr>\n",
       "    <tr>\n",
       "      <th>4</th>\n",
       "      <td>United States</td>\n",
       "      <td>All</td>\n",
       "      <td>25-34 years</td>\n",
       "      <td>732</td>\n",
       "      <td>24675</td>\n",
       "      <td>885</td>\n",
       "      <td>146</td>\n",
       "    </tr>\n",
       "  </tbody>\n",
       "</table>\n",
       "</div>"
      ],
      "text/plain": [
       "           State  Sex     Age_group  COVID_19_Deaths  Total_Deaths  \\\n",
       "0  United States  All  Under 1 year                9          6504   \n",
       "1  United States  All     1-4 years                6          1259   \n",
       "2  United States  All    5-14 years               13          1859   \n",
       "3  United States  All   15-24 years              132         11608   \n",
       "4  United States  All   25-34 years              732         24675   \n",
       "\n",
       "   Pneumonia_Deaths  Influenza_Deaths  \n",
       "0                59                14  \n",
       "1                46                40  \n",
       "2                61                46  \n",
       "3               235                51  \n",
       "4               885               146  "
      ]
     },
     "execution_count": 57,
     "metadata": {},
     "output_type": "execute_result"
    }
   ],
   "source": [
    "df_copy = df.copy()\n",
    "df_copy.head()"
   ]
  },
  {
   "cell_type": "markdown",
   "id": "002a7293",
   "metadata": {},
   "source": [
    "We created a copy from the oridinal dataframe so that we can do some changes comfortably"
   ]
  },
  {
   "cell_type": "code",
   "execution_count": 58,
   "id": "d45d7640",
   "metadata": {},
   "outputs": [],
   "source": [
    "df_copy.drop(df_copy.index[df_copy['Age_group'] == 'All ages'], inplace = True)"
   ]
  },
  {
   "cell_type": "code",
   "execution_count": 59,
   "id": "7d2da1df",
   "metadata": {},
   "outputs": [],
   "source": [
    "df_copy.drop(df_copy.index[df_copy['Age_group'] == 'All Ages'], inplace = True)"
   ]
  },
  {
   "cell_type": "markdown",
   "id": "51b5287a",
   "metadata": {},
   "source": [
    "Dropped any variables except females and males"
   ]
  },
  {
   "cell_type": "code",
   "execution_count": 60,
   "id": "b785b777",
   "metadata": {},
   "outputs": [
    {
     "data": {
      "text/plain": [
       "15-24 years          109\n",
       "35-44 years          109\n",
       "25-34 years          109\n",
       "Under 1 year         109\n",
       "65-74 years          109\n",
       "75-84 years          109\n",
       "85 years and over    109\n",
       "1-4 years            109\n",
       "45-54 years          109\n",
       "55-64 years          109\n",
       "5-14 years           109\n",
       "Name: Age_group, dtype: int64"
      ]
     },
     "execution_count": 60,
     "metadata": {},
     "output_type": "execute_result"
    }
   ],
   "source": [
    "df_copy.Age_group.value_counts()"
   ]
  },
  {
   "cell_type": "code",
   "execution_count": 61,
   "id": "d0761209",
   "metadata": {},
   "outputs": [],
   "source": [
    "df_total=df_copy.groupby('Age_group')['Total_Deaths'].max()"
   ]
  },
  {
   "cell_type": "code",
   "execution_count": 62,
   "id": "1a8fff02",
   "metadata": {},
   "outputs": [
    {
     "data": {
      "text/plain": [
       "<AxesSubplot:ylabel='Age_group'>"
      ]
     },
     "execution_count": 62,
     "metadata": {},
     "output_type": "execute_result"
    },
    {
     "data": {
      "image/png": "[encoded data removed]",
      "text/plain": [
       "<Figure size 432x288 with 1 Axes>"
      ]
     },
     "metadata": {
      "needs_background": "light"
     },
     "output_type": "display_data"
    }
   ],
   "source": [
    "df_total.plot(kind=\"barh\", fontsize=10)"
   ]
  },
  {
   "cell_type": "markdown",
   "id": "35c22beb",
   "metadata": {},
   "source": [
    "85 years and over were (376456) death counts    \n",
    "\n",
    "1-4 years were (1259) death counts           "
   ]
  },
  {
   "cell_type": "code",
   "execution_count": 65,
   "id": "32d62377",
   "metadata": {},
   "outputs": [],
   "source": [
    "df_Pneumonia = df_copy.groupby('Age_group')['Pneumonia_Deaths'].max()"
   ]
  },
  {
   "cell_type": "code",
   "execution_count": 66,
   "id": "e660481d",
   "metadata": {},
   "outputs": [
    {
     "data": {
      "text/plain": [
       "<AxesSubplot:ylabel='Age_group'>"
      ]
     },
     "execution_count": 66,
     "metadata": {},
     "output_type": "execute_result"
    },
    {
     "data": {
      "image/png": "[encoded data removed]",
      "text/plain": [
       "<Figure size 432x288 with 1 Axes>"
      ]
     },
     "metadata": {
      "needs_background": "light"
     },
     "output_type": "display_data"
    }
   ],
   "source": [
    "df_Pneumonia.plot(kind=\"barh\", fontsize=10)"
   ]
  },
  {
   "cell_type": "markdown",
   "id": "d43d1155",
   "metadata": {},
   "source": [
    "85 years old and over were (37172) death counts\n",
    "\n",
    "1-4 years were (46) death counts\n"
   ]
  },
  {
   "cell_type": "code",
   "execution_count": 68,
   "id": "d0df14aa",
   "metadata": {},
   "outputs": [],
   "source": [
    "df_Influenza = df_copy.groupby('Age_group')['Influenza_Deaths'].max()"
   ]
  },
  {
   "cell_type": "code",
   "execution_count": 69,
   "id": "1b4cedd6",
   "metadata": {},
   "outputs": [
    {
     "data": {
      "text/plain": [
       "<AxesSubplot:ylabel='Age_group'>"
      ]
     },
     "execution_count": 69,
     "metadata": {},
     "output_type": "execute_result"
    },
    {
     "data": {
      "image/png": "[encoded data removed]",
      "text/plain": [
       "<Figure size 432x288 with 1 Axes>"
      ]
     },
     "metadata": {
      "needs_background": "light"
     },
     "output_type": "display_data"
    }
   ],
   "source": [
    "df_Influenza.plot(kind=\"barh\", fontsize=10)"
   ]
  },
  {
   "cell_type": "markdown",
   "id": "66a11cd0",
   "metadata": {},
   "source": [
    "75-84 years old were (1423) death count\n",
    "\n",
    "Under 1 year were (14) death count\n"
   ]
  },
  {
   "cell_type": "code",
   "execution_count": 70,
   "id": "c9fff1e6",
   "metadata": {},
   "outputs": [],
   "source": [
    "df_COVID_19 = df_copy.groupby('Age_group')['COVID_19_Deaths'].max()"
   ]
  },
  {
   "cell_type": "code",
   "execution_count": 71,
   "id": "7e8a0685",
   "metadata": {},
   "outputs": [
    {
     "data": {
      "text/plain": [
       "<AxesSubplot:ylabel='Age_group'>"
      ]
     },
     "execution_count": 71,
     "metadata": {},
     "output_type": "execute_result"
    },
    {
     "data": {
      "image/png": "[encoded data removed]",
      "text/plain": [
       "<Figure size 432x288 with 1 Axes>"
      ]
     },
     "metadata": {
      "needs_background": "light"
     },
     "output_type": "display_data"
    }
   ],
   "source": [
    "df_COVID_19.plot(kind=\"barh\", fontsize=10)"
   ]
  },
  {
   "cell_type": "markdown",
   "id": "a6469074",
   "metadata": {},
   "source": [
    "85 years and over were 35948 death count\n",
    "\n",
    "1-4 years old were 6 death count\n"
   ]
  },
  {
   "cell_type": "markdown",
   "id": "0ed7e3fb",
   "metadata": {},
   "source": [
    "# #  Which gender has the highest total death counts?"
   ]
  },
  {
   "cell_type": "code",
   "execution_count": 72,
   "id": "7dc9b8bb",
   "metadata": {},
   "outputs": [
    {
     "data": {
      "text/plain": [
       "Female    594\n",
       "Male      594\n",
       "All        11\n",
       "Name: Sex, dtype: int64"
      ]
     },
     "execution_count": 72,
     "metadata": {},
     "output_type": "execute_result"
    }
   ],
   "source": [
    "df_copy.Sex.value_counts()"
   ]
  },
  {
   "cell_type": "markdown",
   "id": "cc936c80",
   "metadata": {},
   "source": [
    "We will drop the (all) rows temporary "
   ]
  },
  {
   "cell_type": "code",
   "execution_count": 73,
   "id": "4eaa5d87",
   "metadata": {},
   "outputs": [],
   "source": [
    "df_copy.drop(df_copy.index[df_copy['Sex'] == 'All'], inplace = True)"
   ]
  },
  {
   "cell_type": "code",
   "execution_count": 74,
   "id": "a9bb35f1",
   "metadata": {},
   "outputs": [
    {
     "data": {
      "text/plain": [
       "Female    594\n",
       "Male      594\n",
       "Name: Sex, dtype: int64"
      ]
     },
     "execution_count": 74,
     "metadata": {},
     "output_type": "execute_result"
    }
   ],
   "source": [
    "df_copy.Sex.value_counts()"
   ]
  },
  {
   "cell_type": "code",
   "execution_count": 75,
   "id": "93421ff1",
   "metadata": {},
   "outputs": [
    {
     "data": {
      "text/plain": [
       "Sex\n",
       "Female    231482\n",
       "Male      154110\n",
       "Name: Total_Deaths, dtype: int32"
      ]
     },
     "execution_count": 75,
     "metadata": {},
     "output_type": "execute_result"
    }
   ],
   "source": [
    "df_total = df_copy.groupby('Sex')['Total_Deaths'].max()\n",
    "df_total"
   ]
  },
  {
   "cell_type": "code",
   "execution_count": 76,
   "id": "23ea78d8",
   "metadata": {},
   "outputs": [
    {
     "data": {
      "text/plain": [
       "<AxesSubplot:>"
      ]
     },
     "execution_count": 76,
     "metadata": {},
     "output_type": "execute_result"
    },
    {
     "data": {
      "image/png": "[encoded data removed]",
      "text/plain": [
       "<Figure size 432x288 with 1 Axes>"
      ]
     },
     "metadata": {},
     "output_type": "display_data"
    }
   ],
   "source": [
    "df_total.plot(kind=\"pie\", label=\"\")"
   ]
  },
  {
   "cell_type": "markdown",
   "id": "a15ee138",
   "metadata": {},
   "source": [
    "The highest total death counts was for Females and it was 231482 death counts"
   ]
  },
  {
   "cell_type": "markdown",
   "id": "dc0ba523",
   "metadata": {},
   "source": [
    "# Which gender has the highest covid19 , Influenza, Pneumonia Death counts?"
   ]
  },
  {
   "cell_type": "code",
   "execution_count": 77,
   "id": "b3cd4db4",
   "metadata": {},
   "outputs": [
    {
     "data": {
      "text/plain": [
       "Sex\n",
       "Female    20960\n",
       "Male      17942\n",
       "Name: Pneumonia_Deaths, dtype: int32"
      ]
     },
     "execution_count": 77,
     "metadata": {},
     "output_type": "execute_result"
    }
   ],
   "source": [
    "df_Pneumonia = df_copy.groupby('Sex')['Pneumonia_Deaths'].max()\n",
    "df_Pneumonia"
   ]
  },
  {
   "cell_type": "code",
   "execution_count": 78,
   "id": "c0ae8092",
   "metadata": {},
   "outputs": [
    {
     "data": {
      "text/plain": [
       "<AxesSubplot:>"
      ]
     },
     "execution_count": 78,
     "metadata": {},
     "output_type": "execute_result"
    },
    {
     "data": {
      "image/png": "[encoded data removed]",
      "text/plain": [
       "<Figure size 432x288 with 1 Axes>"
      ]
     },
     "metadata": {},
     "output_type": "display_data"
    }
   ],
   "source": [
    "df_Pneumonia.plot(kind=\"pie\", label=\"\")"
   ]
  },
  {
   "cell_type": "markdown",
   "id": "8cf2311e",
   "metadata": {},
   "source": [
    "The highest Pneumonia death counts was for Females and it was 20960 death counts"
   ]
  },
  {
   "cell_type": "code",
   "execution_count": 79,
   "id": "8018ea8d",
   "metadata": {},
   "outputs": [
    {
     "data": {
      "text/plain": [
       "Sex\n",
       "Female    791\n",
       "Male      778\n",
       "Name: Influenza_Deaths, dtype: int32"
      ]
     },
     "execution_count": 79,
     "metadata": {},
     "output_type": "execute_result"
    }
   ],
   "source": [
    "df_Influenza = df_copy.groupby('Sex')['Influenza_Deaths'].max()\n",
    "df_Influenza"
   ]
  },
  {
   "cell_type": "code",
   "execution_count": 80,
   "id": "264bd44a",
   "metadata": {},
   "outputs": [
    {
     "data": {
      "text/plain": [
       "<AxesSubplot:ylabel='Sex'>"
      ]
     },
     "execution_count": 80,
     "metadata": {},
     "output_type": "execute_result"
    },
    {
     "data": {
      "image/png": "[encoded data removed]",
      "text/plain": [
       "<Figure size 432x288 with 1 Axes>"
      ]
     },
     "metadata": {
      "needs_background": "light"
     },
     "output_type": "display_data"
    }
   ],
   "source": [
    "df_Influenza.plot(kind=\"barh\", fontsize=10)"
   ]
  },
  {
   "cell_type": "markdown",
   "id": "a3ebd6b4",
   "metadata": {},
   "source": [
    "The highest Influenza death counts was for Females and it was 791 death counts"
   ]
  },
  {
   "cell_type": "code",
   "execution_count": 81,
   "id": "fc0491a7",
   "metadata": {},
   "outputs": [
    {
     "data": {
      "text/plain": [
       "Sex\n",
       "Female    21929\n",
       "Male      15717\n",
       "Name: COVID_19_Deaths, dtype: int32"
      ]
     },
     "execution_count": 81,
     "metadata": {},
     "output_type": "execute_result"
    }
   ],
   "source": [
    "df_COVID_19 = df_copy.groupby('Sex')['COVID_19_Deaths'].max()\n",
    "df_COVID_19"
   ]
  },
  {
   "cell_type": "code",
   "execution_count": 82,
   "id": "ea1dfd44",
   "metadata": {},
   "outputs": [
    {
     "data": {
      "text/plain": [
       "<AxesSubplot:>"
      ]
     },
     "execution_count": 82,
     "metadata": {},
     "output_type": "execute_result"
    },
    {
     "data": {
      "image/png": "[encoded data removed]",
      "text/plain": [
       "<Figure size 432x288 with 1 Axes>"
      ]
     },
     "metadata": {},
     "output_type": "display_data"
    }
   ],
   "source": [
    "df_COVID_19.plot(kind=\"pie\", label=\"\")"
   ]
  },
  {
   "cell_type": "markdown",
   "id": "61dfc3fe",
   "metadata": {},
   "source": [
    "The highest COVID_19 death counts was for Females and it was 21929 death counts"
   ]
  },
  {
   "cell_type": "markdown",
   "id": "63dc6050",
   "metadata": {},
   "source": [
    "# What is the deadliest disease?"
   ]
  },
  {
   "cell_type": "code",
   "execution_count": 83,
   "id": "38fcd09d",
   "metadata": {},
   "outputs": [
    {
     "data": {
      "text/html": [
       "<div>\n",
       "<style scoped>\n",
       "    .dataframe tbody tr th:only-of-type {\n",
       "        vertical-align: middle;\n",
       "    }\n",
       "\n",
       "    .dataframe tbody tr th {\n",
       "        vertical-align: top;\n",
       "    }\n",
       "\n",
       "    .dataframe thead th {\n",
       "        text-align: right;\n",
       "    }\n",
       "</style>\n",
       "<table border=\"1\" class=\"dataframe\">\n",
       "  <thead>\n",
       "    <tr style=\"text-align: right;\">\n",
       "      <th></th>\n",
       "      <th>State</th>\n",
       "      <th>Sex</th>\n",
       "      <th>Age_group</th>\n",
       "      <th>COVID_19_Deaths</th>\n",
       "      <th>Total_Deaths</th>\n",
       "      <th>Pneumonia_Deaths</th>\n",
       "      <th>Influenza_Deaths</th>\n",
       "    </tr>\n",
       "  </thead>\n",
       "  <tbody>\n",
       "    <tr>\n",
       "      <th>0</th>\n",
       "      <td>United States</td>\n",
       "      <td>All</td>\n",
       "      <td>Under 1 year</td>\n",
       "      <td>9</td>\n",
       "      <td>6504</td>\n",
       "      <td>59</td>\n",
       "      <td>14</td>\n",
       "    </tr>\n",
       "    <tr>\n",
       "      <th>1</th>\n",
       "      <td>United States</td>\n",
       "      <td>All</td>\n",
       "      <td>1-4 years</td>\n",
       "      <td>6</td>\n",
       "      <td>1259</td>\n",
       "      <td>46</td>\n",
       "      <td>40</td>\n",
       "    </tr>\n",
       "    <tr>\n",
       "      <th>2</th>\n",
       "      <td>United States</td>\n",
       "      <td>All</td>\n",
       "      <td>5-14 years</td>\n",
       "      <td>13</td>\n",
       "      <td>1859</td>\n",
       "      <td>61</td>\n",
       "      <td>46</td>\n",
       "    </tr>\n",
       "    <tr>\n",
       "      <th>3</th>\n",
       "      <td>United States</td>\n",
       "      <td>All</td>\n",
       "      <td>15-24 years</td>\n",
       "      <td>132</td>\n",
       "      <td>11608</td>\n",
       "      <td>235</td>\n",
       "      <td>51</td>\n",
       "    </tr>\n",
       "    <tr>\n",
       "      <th>4</th>\n",
       "      <td>United States</td>\n",
       "      <td>All</td>\n",
       "      <td>25-34 years</td>\n",
       "      <td>732</td>\n",
       "      <td>24675</td>\n",
       "      <td>885</td>\n",
       "      <td>146</td>\n",
       "    </tr>\n",
       "  </tbody>\n",
       "</table>\n",
       "</div>"
      ],
      "text/plain": [
       "           State  Sex     Age_group  COVID_19_Deaths  Total_Deaths  \\\n",
       "0  United States  All  Under 1 year                9          6504   \n",
       "1  United States  All     1-4 years                6          1259   \n",
       "2  United States  All    5-14 years               13          1859   \n",
       "3  United States  All   15-24 years              132         11608   \n",
       "4  United States  All   25-34 years              732         24675   \n",
       "\n",
       "   Pneumonia_Deaths  Influenza_Deaths  \n",
       "0                59                14  \n",
       "1                46                40  \n",
       "2                61                46  \n",
       "3               235                51  \n",
       "4               885               146  "
      ]
     },
     "execution_count": 83,
     "metadata": {},
     "output_type": "execute_result"
    }
   ],
   "source": [
    "df.head()"
   ]
  },
  {
   "cell_type": "code",
   "execution_count": 84,
   "id": "671f80d1",
   "metadata": {},
   "outputs": [
    {
     "data": {
      "text/plain": [
       "107997"
      ]
     },
     "execution_count": 84,
     "metadata": {},
     "output_type": "execute_result"
    }
   ],
   "source": [
    "df.COVID_19_Deaths.max()"
   ]
  },
  {
   "cell_type": "code",
   "execution_count": 85,
   "id": "acbaa497",
   "metadata": {},
   "outputs": [
    {
     "data": {
      "text/plain": [
       "20960"
      ]
     },
     "execution_count": 85,
     "metadata": {},
     "output_type": "execute_result"
    }
   ],
   "source": [
    "df_copy.Pneumonia_Deaths.max()"
   ]
  },
  {
   "cell_type": "code",
   "execution_count": 86,
   "id": "1ccbc857",
   "metadata": {},
   "outputs": [
    {
     "data": {
      "text/plain": [
       "6444"
      ]
     },
     "execution_count": 86,
     "metadata": {},
     "output_type": "execute_result"
    }
   ],
   "source": [
    "df.Influenza_Deaths.max()"
   ]
  },
  {
   "cell_type": "code",
   "execution_count": 88,
   "id": "9ce1c79f",
   "metadata": {
    "scrolled": false
   },
   "outputs": [
    {
     "data": {
      "text/html": [
       "<div>\n",
       "<style scoped>\n",
       "    .dataframe tbody tr th:only-of-type {\n",
       "        vertical-align: middle;\n",
       "    }\n",
       "\n",
       "    .dataframe tbody tr th {\n",
       "        vertical-align: top;\n",
       "    }\n",
       "\n",
       "    .dataframe thead th {\n",
       "        text-align: right;\n",
       "    }\n",
       "</style>\n",
       "<table border=\"1\" class=\"dataframe\">\n",
       "  <thead>\n",
       "    <tr style=\"text-align: right;\">\n",
       "      <th></th>\n",
       "      <th>COVID_19_Deaths</th>\n",
       "      <th>Total_Deaths</th>\n",
       "      <th>Pneumonia_Deaths</th>\n",
       "      <th>Influenza_Deaths</th>\n",
       "    </tr>\n",
       "  </thead>\n",
       "  <tbody>\n",
       "    <tr>\n",
       "      <th>count</th>\n",
       "      <td>1416.000000</td>\n",
       "      <td>1.416000e+03</td>\n",
       "      <td>1416.000000</td>\n",
       "      <td>1416.000000</td>\n",
       "    </tr>\n",
       "    <tr>\n",
       "      <th>mean</th>\n",
       "      <td>609.524011</td>\n",
       "      <td>6.869159e+03</td>\n",
       "      <td>665.115819</td>\n",
       "      <td>35.211158</td>\n",
       "    </tr>\n",
       "    <tr>\n",
       "      <th>std</th>\n",
       "      <td>4928.015836</td>\n",
       "      <td>5.448094e+04</td>\n",
       "      <td>5324.668423</td>\n",
       "      <td>287.258766</td>\n",
       "    </tr>\n",
       "    <tr>\n",
       "      <th>min</th>\n",
       "      <td>0.000000</td>\n",
       "      <td>0.000000e+00</td>\n",
       "      <td>0.000000</td>\n",
       "      <td>0.000000</td>\n",
       "    </tr>\n",
       "    <tr>\n",
       "      <th>25%</th>\n",
       "      <td>0.000000</td>\n",
       "      <td>3.300000e+01</td>\n",
       "      <td>0.000000</td>\n",
       "      <td>0.000000</td>\n",
       "    </tr>\n",
       "    <tr>\n",
       "      <th>50%</th>\n",
       "      <td>0.000000</td>\n",
       "      <td>3.040000e+02</td>\n",
       "      <td>16.000000</td>\n",
       "      <td>0.000000</td>\n",
       "    </tr>\n",
       "    <tr>\n",
       "      <th>75%</th>\n",
       "      <td>90.250000</td>\n",
       "      <td>2.014500e+03</td>\n",
       "      <td>164.250000</td>\n",
       "      <td>11.000000</td>\n",
       "    </tr>\n",
       "    <tr>\n",
       "      <th>max</th>\n",
       "      <td>107997.000000</td>\n",
       "      <td>1.215516e+06</td>\n",
       "      <td>117814.000000</td>\n",
       "      <td>6444.000000</td>\n",
       "    </tr>\n",
       "  </tbody>\n",
       "</table>\n",
       "</div>"
      ],
      "text/plain": [
       "       COVID_19_Deaths  Total_Deaths  Pneumonia_Deaths  Influenza_Deaths\n",
       "count      1416.000000  1.416000e+03       1416.000000       1416.000000\n",
       "mean        609.524011  6.869159e+03        665.115819         35.211158\n",
       "std        4928.015836  5.448094e+04       5324.668423        287.258766\n",
       "min           0.000000  0.000000e+00          0.000000          0.000000\n",
       "25%           0.000000  3.300000e+01          0.000000          0.000000\n",
       "50%           0.000000  3.040000e+02         16.000000          0.000000\n",
       "75%          90.250000  2.014500e+03        164.250000         11.000000\n",
       "max      107997.000000  1.215516e+06     117814.000000       6444.000000"
      ]
     },
     "execution_count": 88,
     "metadata": {},
     "output_type": "execute_result"
    }
   ],
   "source": [
    "maximum_diseas = df.describe()\n",
    "maximum_diseas"
   ]
  },
  {
   "cell_type": "code",
   "execution_count": 89,
   "id": "f8fdf8d1",
   "metadata": {},
   "outputs": [
    {
     "data": {
      "text/plain": [
       "<AxesSubplot:>"
      ]
     },
     "execution_count": 89,
     "metadata": {},
     "output_type": "execute_result"
    },
    {
     "data": {
      "image/png": "[encoded data removed]",
      "text/plain": [
       "<Figure size 432x288 with 1 Axes>"
      ]
     },
     "metadata": {
      "needs_background": "light"
     },
     "output_type": "display_data"
    }
   ],
   "source": [
    "maximum_diseas.plot(kind=\"barh\", fontsize=16)"
   ]
  },
  {
   "cell_type": "markdown",
   "id": "a5786ae8",
   "metadata": {},
   "source": [
    "The deadliest disease was (Pneumonia) and it has killed almost 117814"
   ]
  },
  {
   "cell_type": "markdown",
   "id": "f6fe3370",
   "metadata": {},
   "source": [
    "## Conclusions\n"
   ]
  },
  {
   "cell_type": "markdown",
   "id": "aef67202",
   "metadata": {},
   "source": [
    "1- The highest number of death counts is in The The United States which is 1215516  number of deaths and almost (53) states have zero death counts like Alabama, Alaska and Puerto.\n",
    "\n",
    "2- (85 years old and over) is the age that had the highest number of (Total death counts) which is 376456.0 death count, and (1-4 years old) had the lowest number of (Total death) counts which is 1259.0 death count.\n",
    "\n",
    "3- (85 years old and over) is the age that had the highest number of (Pneumonia death counts) which is (37172) death count, and (1-4 years) is the age that had the lowest number of (Pneumonia death counts) which is (46) death count\n",
    "\n",
    "4- (75-84 years old) is the age that had the highest number of (Influenza death counts) which was (1423) death count and (Under 1 year) is the age that had the lowest number of (Influenza death counts) and it was (14) death count\n",
    "\n",
    "5- (85 years old and over) is the age that had the highest number of (Covid_19 death counts) which was 35948 death count and (1-4 years old) for the lowest number of (Covid_19 death counts) and was 6 death count\n",
    "\n",
    "6- The highest (total death counts) was for Females and it was 231482 death count\n",
    "\n",
    "7- The highest (Pneumonia death counts) was for Females and it was 20960 death counts\n",
    "\n",
    "8- The highest (COVID_19 death counts) was for Females and it was 21929 death counts\n",
    "\n",
    "9- And finally, The deadliest disease was (Pneumonia) and it has killed almost 117814 death count"
   ]
  },
  {
   "cell_type": "markdown",
   "id": "1244ad49",
   "metadata": {},
   "source": [
    "### Limitations\n"
   ]
  },
  {
   "cell_type": "markdown",
   "id": "ebd9e1a5",
   "metadata": {},
   "source": [
    "(Pneumonia and COVID-19 Deaths), (Pneumonia, Influenza, or COVID-19 Deaths), (Footnote) columns could not be used in analyzing because they were not accurate "
   ]
  }
 ],
 "metadata": {
  "kernelspec": {
   "display_name": "Python 3",
   "language": "python",
   "name": "python3"
  },
  "language_info": {
   "codemirror_mode": {
    "name": "ipython",
    "version": 3
   },
   "file_extension": ".py",
   "mimetype": "text/x-python",
   "name": "python",
   "nbconvert_exporter": "python",
   "pygments_lexer": "ipython3",
   "version": "3.8.8"
  }
 },
 "nbformat": 4,
 "nbformat_minor": 5
}
